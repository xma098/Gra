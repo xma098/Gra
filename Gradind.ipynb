{
 "cells": [
  {
   "cell_type": "code",
   "execution_count": 1,
   "metadata": {},
   "outputs": [],
   "source": [
    "import pandas as pd\n",
    "grade = pd.read_csv('StudentGrade/Grades-PHYS_040C_109_24S.csv')"
   ]
  },
  {
   "cell_type": "code",
   "execution_count": 44,
   "metadata": {},
   "outputs": [
    {
     "name": "stdout",
     "output_type": "stream",
     "text": [
      "    Quiz 1 (678959)  Quiz 2 (678960)  Quiz 3 (678961)  Quiz 4 (678962)  \\\n",
      "49              NaN              NaN              NaN              NaN   \n",
      "\n",
      "    Quiz 5 (678963)  Quiz 6 (678964)  Quiz 7 (678965)  Quiz 8 (678966)  \\\n",
      "49              NaN              NaN              NaN              NaN   \n",
      "\n",
      "    Report 1 (678967)  Report 2 (678968)  Report 3 (678969)  Report 4 (678970)  \n",
      "49                NaN                NaN                NaN                NaN  \n",
      "          Student\n",
      "49  Student, Test\n"
     ]
    }
   ],
   "source": [
    "print(grade.iloc[49:50, 13:25],)\n",
    "print(grade.iloc[49:50, 0:1])"
   ]
  },
  {
   "cell_type": "code",
   "execution_count": 9,
   "metadata": {},
   "outputs": [
    {
     "name": "stdout",
     "output_type": "stream",
     "text": [
      "1            Alquizalas, Jeremy\n",
      "2               Becker, Richard\n",
      "3                   Byun, Brian\n",
      "4            Carrera, Stephanie\n",
      "5             Carrillo, Shelsea\n",
      "6             Chirayath, Nikhil\n",
      "7                  Dam, William\n",
      "8                 Garcia, Erick\n",
      "9                Hernandez, Leo\n",
      "10                 Huang, Brian\n",
      "11          Jayasuriya, Manishi\n",
      "12                   Joya, Jose\n",
      "13                 Karim, Jason\n",
      "14             Khugyani, Ayesha\n",
      "15                     Kim, Ben\n",
      "16         Klinchaeva, Valeriia\n",
      "17                   Lee, David\n",
      "18                Lopez, Daniel\n",
      "19            Machado, Leonardo\n",
      "20               Mandhani, Yash\n",
      "21        Marishetty, Aishwarya\n",
      "22            Martinez, Jocelyn\n",
      "23              Mohammadi, Arya\n",
      "24           Muro Guzman, Bobby\n",
      "25                      Oh, Tim\n",
      "26        Paredes, Gerard Allen\n",
      "27                 Park, Jooahn\n",
      "28         Pastrana, Jeanpierre\n",
      "29                 Phatak, Nina\n",
      "30    Pourgolnar Saheli, Honnah\n",
      "31             Prajapati, Aditi\n",
      "32          Sanniboyina, Sujith\n",
      "33               Santana, Mateo\n",
      "34              Schumacher, Meg\n",
      "35                Seder, Norman\n",
      "36                Sexon, Sophia\n",
      "37              Shamoun, Ashour\n",
      "38              Sharma, Abhinav\n",
      "39               Shimoon, Chris\n",
      "40              Singam, Keerthi\n",
      "41           Studebaker, Alexis\n",
      "42             Sultana, Nashmia\n",
      "43             Tolero, Juillian\n",
      "44                 Tulsi, Falak\n",
      "45                  Wells, Kali\n",
      "46               Wong, Lok Sang\n",
      "47                 Zhang, Tiger\n",
      "48                 Ziaei, Artin\n",
      "49                Student, Test\n",
      "Name: Student, dtype: object\n"
     ]
    }
   ],
   "source": [
    "print(grade.iloc[1:50,0])\n",
    "\n",
    "# grade.iloc[0:50,13].fillna(0).astype(int)"
   ]
  },
  {
   "cell_type": "code",
   "execution_count": 54,
   "metadata": {},
   "outputs": [],
   "source": [
    "# grade.iloc[49,13] = \"1\""
   ]
  },
  {
   "cell_type": "code",
   "execution_count": 68,
   "metadata": {},
   "outputs": [
    {
     "name": "stdout",
     "output_type": "stream",
     "text": [
      "Student, Test \n",
      " ----------------------------------------------------------------\n",
      "Quiz 1 (678959)        1\n",
      "Quiz 2 (678960)      NaN\n",
      "Quiz 3 (678961)      NaN\n",
      "Quiz 4 (678962)      NaN\n",
      "Quiz 5 (678963)      NaN\n",
      "Quiz 6 (678964)      NaN\n",
      "Quiz 7 (678965)      NaN\n",
      "Quiz 8 (678966)      NaN\n",
      "Report 1 (678967)    NaN\n",
      "Report 2 (678968)    NaN\n",
      "Report 3 (678969)    NaN\n",
      "Report 4 (678970)    NaN\n",
      "Name: 49, dtype: object \n",
      " ----------------------------------------------------------------\n",
      "1 \n",
      " ----------------------------------------------------------------\n"
     ]
    }
   ],
   "source": [
    "print(grade.iloc[49, 0],\"\\n\",\"----------------------------------------------------------------\")\n",
    "print(grade.iloc[49, 13:25],\"\\n\",\"----------------------------------------------------------------\")\n",
    "print(grade.iloc[49,13],\"\\n\",\"----------------------------------------------------------------\")\n"
   ]
  },
  {
   "cell_type": "code",
   "execution_count": 73,
   "metadata": {},
   "outputs": [
    {
     "name": "stdout",
     "output_type": "stream",
     "text": [
      "1\n"
     ]
    }
   ],
   "source": [
    "print(grade.at[49,\"Quiz 1 (678959)\"])"
   ]
  },
  {
   "cell_type": "code",
   "execution_count": 27,
   "metadata": {},
   "outputs": [
    {
     "name": "stdout",
     "output_type": "stream",
     "text": [
      "Report 8 (678974) \n",
      " ----------------------------------------------------------------\n"
     ]
    }
   ],
   "source": [
    "net_id = grade.iloc[1:50,2]\n",
    "\n",
    "assignment = grade.keys()[13:29]\n",
    "print(assignment[15],\"\\n\",\"----------------------------------------------------------------\")"
   ]
  },
  {
   "cell_type": "markdown",
   "metadata": {},
   "source": [
    "Create Gui for for grading"
   ]
  },
  {
   "cell_type": "code",
   "execution_count": 31,
   "metadata": {},
   "outputs": [
    {
     "ename": "KeyError",
     "evalue": "0",
     "output_type": "error",
     "traceback": [
      "\u001b[1;31m---------------------------------------------------------------------------\u001b[0m",
      "\u001b[1;31mValueError\u001b[0m                                Traceback (most recent call last)",
      "File \u001b[1;32m~\\AppData\\Roaming\\Python\\Python312\\site-packages\\pandas\\core\\indexes\\range.py:413\u001b[0m, in \u001b[0;36mRangeIndex.get_loc\u001b[1;34m(self, key)\u001b[0m\n\u001b[0;32m    412\u001b[0m \u001b[38;5;28;01mtry\u001b[39;00m:\n\u001b[1;32m--> 413\u001b[0m     \u001b[38;5;28;01mreturn\u001b[39;00m \u001b[38;5;28;43mself\u001b[39;49m\u001b[38;5;241;43m.\u001b[39;49m\u001b[43m_range\u001b[49m\u001b[38;5;241;43m.\u001b[39;49m\u001b[43mindex\u001b[49m\u001b[43m(\u001b[49m\u001b[43mnew_key\u001b[49m\u001b[43m)\u001b[49m\n\u001b[0;32m    414\u001b[0m \u001b[38;5;28;01mexcept\u001b[39;00m \u001b[38;5;167;01mValueError\u001b[39;00m \u001b[38;5;28;01mas\u001b[39;00m err:\n",
      "\u001b[1;31mValueError\u001b[0m: 0 is not in range",
      "\nThe above exception was the direct cause of the following exception:\n",
      "\u001b[1;31mKeyError\u001b[0m                                  Traceback (most recent call last)",
      "Cell \u001b[1;32mIn[31], line 16\u001b[0m\n\u001b[0;32m     11\u001b[0m     create_widgets(\u001b[38;5;28mself\u001b[39m,all_assignment)\n\u001b[0;32m     15\u001b[0m m \u001b[38;5;241m=\u001b[39m tk\u001b[38;5;241m.\u001b[39mTk()   \n\u001b[1;32m---> 16\u001b[0m \u001b[43mcreate_window\u001b[49m\u001b[43m(\u001b[49m\u001b[43mm\u001b[49m\u001b[43m,\u001b[49m\u001b[43m \u001b[49m\u001b[43mnet_id\u001b[49m\u001b[43m)\u001b[49m\n\u001b[0;32m     17\u001b[0m m\u001b[38;5;241m.\u001b[39mmainloop()  \n",
      "Cell \u001b[1;32mIn[31], line 11\u001b[0m, in \u001b[0;36mcreate_window\u001b[1;34m(self, all_assignment)\u001b[0m\n\u001b[0;32m      9\u001b[0m \u001b[38;5;28mself\u001b[39m\u001b[38;5;241m.\u001b[39mgeometry(\u001b[38;5;124m\"\u001b[39m\u001b[38;5;124m400x400\u001b[39m\u001b[38;5;124m\"\u001b[39m)                                                                       \n\u001b[0;32m     10\u001b[0m \u001b[38;5;28mself\u001b[39m\u001b[38;5;241m.\u001b[39mtitle(\u001b[38;5;124m\"\u001b[39m\u001b[38;5;124mgrading\u001b[39m\u001b[38;5;124m\"\u001b[39m)  \n\u001b[1;32m---> 11\u001b[0m \u001b[43mcreate_widgets\u001b[49m\u001b[43m(\u001b[49m\u001b[38;5;28;43mself\u001b[39;49m\u001b[43m,\u001b[49m\u001b[43mall_assignment\u001b[49m\u001b[43m)\u001b[49m\n",
      "Cell \u001b[1;32mIn[31], line 4\u001b[0m, in \u001b[0;36mcreate_widgets\u001b[1;34m(self, all_assignment)\u001b[0m\n\u001b[0;32m      2\u001b[0m \u001b[38;5;28;01mdef\u001b[39;00m \u001b[38;5;21mcreate_widgets\u001b[39m(\u001b[38;5;28mself\u001b[39m,all_assignment):\n\u001b[0;32m      3\u001b[0m     tk\u001b[38;5;241m.\u001b[39mLabel(\u001b[38;5;28mself\u001b[39m, text\u001b[38;5;241m=\u001b[39m\u001b[38;5;124m\"\u001b[39m\u001b[38;5;124mNetID\u001b[39m\u001b[38;5;124m\"\u001b[39m)\u001b[38;5;241m.\u001b[39mgrid(row\u001b[38;5;241m=\u001b[39m\u001b[38;5;241m1\u001b[39m)   \n\u001b[1;32m----> 4\u001b[0m     \u001b[38;5;28mself\u001b[39m\u001b[38;5;241m.\u001b[39massignment \u001b[38;5;241m=\u001b[39m tk\u001b[38;5;241m.\u001b[39mSpinbox(\u001b[38;5;28mself\u001b[39m, from_\u001b[38;5;241m=\u001b[39m \u001b[43mall_assignment\u001b[49m\u001b[43m[\u001b[49m\u001b[38;5;241;43m0\u001b[39;49m\u001b[43m]\u001b[49m, to\u001b[38;5;241m=\u001b[39mall_assignment[\u001b[38;5;241m15\u001b[39m], increment\u001b[38;5;241m=\u001b[39m\u001b[38;5;241m1\u001b[39m)\n\u001b[0;32m      7\u001b[0m     \u001b[38;5;28mself\u001b[39m\u001b[38;5;241m.\u001b[39massignment\u001b[38;5;241m.\u001b[39mgrid(row\u001b[38;5;241m=\u001b[39m\u001b[38;5;241m0\u001b[39m)\n",
      "File \u001b[1;32m~\\AppData\\Roaming\\Python\\Python312\\site-packages\\pandas\\core\\series.py:1112\u001b[0m, in \u001b[0;36mSeries.__getitem__\u001b[1;34m(self, key)\u001b[0m\n\u001b[0;32m   1109\u001b[0m     \u001b[38;5;28;01mreturn\u001b[39;00m \u001b[38;5;28mself\u001b[39m\u001b[38;5;241m.\u001b[39m_values[key]\n\u001b[0;32m   1111\u001b[0m \u001b[38;5;28;01melif\u001b[39;00m key_is_scalar:\n\u001b[1;32m-> 1112\u001b[0m     \u001b[38;5;28;01mreturn\u001b[39;00m \u001b[38;5;28;43mself\u001b[39;49m\u001b[38;5;241;43m.\u001b[39;49m\u001b[43m_get_value\u001b[49m\u001b[43m(\u001b[49m\u001b[43mkey\u001b[49m\u001b[43m)\u001b[49m\n\u001b[0;32m   1114\u001b[0m \u001b[38;5;66;03m# Convert generator to list before going through hashable part\u001b[39;00m\n\u001b[0;32m   1115\u001b[0m \u001b[38;5;66;03m# (We will iterate through the generator there to check for slices)\u001b[39;00m\n\u001b[0;32m   1116\u001b[0m \u001b[38;5;28;01mif\u001b[39;00m is_iterator(key):\n",
      "File \u001b[1;32m~\\AppData\\Roaming\\Python\\Python312\\site-packages\\pandas\\core\\series.py:1228\u001b[0m, in \u001b[0;36mSeries._get_value\u001b[1;34m(self, label, takeable)\u001b[0m\n\u001b[0;32m   1225\u001b[0m     \u001b[38;5;28;01mreturn\u001b[39;00m \u001b[38;5;28mself\u001b[39m\u001b[38;5;241m.\u001b[39m_values[label]\n\u001b[0;32m   1227\u001b[0m \u001b[38;5;66;03m# Similar to Index.get_value, but we do not fall back to positional\u001b[39;00m\n\u001b[1;32m-> 1228\u001b[0m loc \u001b[38;5;241m=\u001b[39m \u001b[38;5;28;43mself\u001b[39;49m\u001b[38;5;241;43m.\u001b[39;49m\u001b[43mindex\u001b[49m\u001b[38;5;241;43m.\u001b[39;49m\u001b[43mget_loc\u001b[49m\u001b[43m(\u001b[49m\u001b[43mlabel\u001b[49m\u001b[43m)\u001b[49m\n\u001b[0;32m   1230\u001b[0m \u001b[38;5;28;01mif\u001b[39;00m is_integer(loc):\n\u001b[0;32m   1231\u001b[0m     \u001b[38;5;28;01mreturn\u001b[39;00m \u001b[38;5;28mself\u001b[39m\u001b[38;5;241m.\u001b[39m_values[loc]\n",
      "File \u001b[1;32m~\\AppData\\Roaming\\Python\\Python312\\site-packages\\pandas\\core\\indexes\\range.py:415\u001b[0m, in \u001b[0;36mRangeIndex.get_loc\u001b[1;34m(self, key)\u001b[0m\n\u001b[0;32m    413\u001b[0m         \u001b[38;5;28;01mreturn\u001b[39;00m \u001b[38;5;28mself\u001b[39m\u001b[38;5;241m.\u001b[39m_range\u001b[38;5;241m.\u001b[39mindex(new_key)\n\u001b[0;32m    414\u001b[0m     \u001b[38;5;28;01mexcept\u001b[39;00m \u001b[38;5;167;01mValueError\u001b[39;00m \u001b[38;5;28;01mas\u001b[39;00m err:\n\u001b[1;32m--> 415\u001b[0m         \u001b[38;5;28;01mraise\u001b[39;00m \u001b[38;5;167;01mKeyError\u001b[39;00m(key) \u001b[38;5;28;01mfrom\u001b[39;00m \u001b[38;5;21;01merr\u001b[39;00m\n\u001b[0;32m    416\u001b[0m \u001b[38;5;28;01mif\u001b[39;00m \u001b[38;5;28misinstance\u001b[39m(key, Hashable):\n\u001b[0;32m    417\u001b[0m     \u001b[38;5;28;01mraise\u001b[39;00m \u001b[38;5;167;01mKeyError\u001b[39;00m(key)\n",
      "\u001b[1;31mKeyError\u001b[0m: 0"
     ]
    }
   ],
   "source": [
    "import tkinter as tk \n",
    "def create_widgets(self,all_assignment):\n",
    "    tk.Label(self, text=\"NetID\").grid(row=1)   \n",
    "    self.assignment = tk.Spinbox(self, from_= all_assignment[0], to=all_assignment[15], increment=1)\n",
    "          \n",
    "                                                                                                                                                                                              \n",
    "    self.assignment.grid(row=0)   \n",
    "def create_window(self, all_assignment):\n",
    "    self.geometry(\"400x400\")                                                                       \n",
    "    self.title(\"grading\")  \n",
    "    create_widgets(self,all_assignment)\n",
    "\n",
    "                                                                 \n",
    "\n",
    "m = tk.Tk()   \n",
    "create_window(m, net_id)\n",
    "m.mainloop()  \n"
   ]
  },
  {
   "cell_type": "code",
   "execution_count": 4,
   "metadata": {},
   "outputs": [],
   "source": [
    "master = tk.Tk()\n",
    "create_window(master,name)\n"
   ]
  },
  {
   "cell_type": "markdown",
   "metadata": {},
   "source": [
    "Just some random things to try out for tkinter"
   ]
  },
  {
   "cell_type": "code",
   "execution_count": 39,
   "metadata": {},
   "outputs": [],
   "source": [
    "# Create a window and try out buttons\n",
    "import tkinter as tk                                                                        # using tkinter\n",
    "m = tk.Tk()                                                                                 # creating a window with name m\n",
    "m.geometry(\"400x400\")                                                                       # setting the size of the window\n",
    "m.title(\"grading\")                                                                          # change the title of the window\n",
    "w = tk.Button(m, text=\"w\", width=10, height=1 ,command=m.destroy)                           # creating a button called w\n",
    "e = tk.Button(m, text=\"e\", width=10,height=1 ,command=m.destroy)                            # creating another button called e\n",
    "e.place(x = 0, y = 0)                                                                       # placing the button at (0,0)\n",
    "w.place(x = 200, y = 25)                                                                    # placing the button at (200,25)\n",
    "m.mainloop()                                                                                # running the mainloop of the window\n"
   ]
  },
  {
   "cell_type": "code",
   "execution_count": 4,
   "metadata": {},
   "outputs": [],
   "source": [
    "# Create a window and try out labels and entries\n",
    "import tkinter as tk\n",
    "m = tk.Tk()                                                                                 # creating a window with name m\n",
    "m.geometry(\"400x400\")                                                                       # setting the size of the window\n",
    "m.title(\"grading\")                                                                          # change the title of the window\n",
    "tk.Label(m, text='First Name').grid(row=0)                                                  # creating a label called First Name\n",
    "tk.Label(m, text='Last Name').grid(row=2)                                                   # creating a label called Last Name\n",
    "e1 = tk.Entry(m)                                                                            # creating an entry called e1\n",
    "e2 = tk.Entry(m)                                                                            # creating an entry called e2\n",
    "e1.grid(row=0, column=1)                                                                    # placing the entry at (0,1)\n",
    "e2.grid(row=2, column=1)                                                                    # placing the entry at (1,1)\n",
    "m.mainloop()                                                                                # running the mainloop of the window\n"
   ]
  },
  {
   "cell_type": "markdown",
   "metadata": {},
   "source": [
    "Some substring practice"
   ]
  },
  {
   "cell_type": "code",
   "execution_count": 12,
   "metadata": {},
   "outputs": [],
   "source": [
    "for i in net_id:\n",
    "    # last_name_to_check = i.replace(\" \",\"\").lower().split(\",\")[0]\n",
    "    times_it_appears = 0\n",
    "    for j in net_id:\n",
    "        if i == j:\n",
    "            times_it_appears = times_it_appears + 1\n",
    "    if times_it_appears > 1:\n",
    "        print(i)\n",
    "        print(\"ggez\")\n"
   ]
  },
  {
   "cell_type": "code",
   "execution_count": null,
   "metadata": {},
   "outputs": [],
   "source": []
  },
  {
   "cell_type": "code",
   "execution_count": null,
   "metadata": {},
   "outputs": [],
   "source": []
  }
 ],
 "metadata": {
  "kernelspec": {
   "display_name": "Python 3",
   "language": "python",
   "name": "python3"
  },
  "language_info": {
   "codemirror_mode": {
    "name": "ipython",
    "version": 3
   },
   "file_extension": ".py",
   "mimetype": "text/x-python",
   "name": "python",
   "nbconvert_exporter": "python",
   "pygments_lexer": "ipython3",
   "version": "3.12.2"
  }
 },
 "nbformat": 4,
 "nbformat_minor": 2
}
